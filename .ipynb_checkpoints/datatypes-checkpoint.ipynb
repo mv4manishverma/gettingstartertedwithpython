{
 "cells": [
  {
   "cell_type": "markdown",
   "metadata": {},
   "source": [
    "# Basic Data types in Python"
   ]
  },
  {
   "cell_type": "markdown",
   "metadata": {},
   "source": [
    "## Integers"
   ]
  },
  {
   "cell_type": "code",
   "execution_count": 61,
   "metadata": {},
   "outputs": [
    {
     "name": "stdout",
     "output_type": "stream",
     "text": [
      "x= 10\n",
      "data type of x : <class 'int'>\n"
     ]
    }
   ],
   "source": [
    "x = 10\n",
    "\n",
    "print(\"x= {}\".format(x))\n",
    "print(\"data type of x : {}\".format(type(x)))\n"
   ]
  },
  {
   "cell_type": "markdown",
   "metadata": {},
   "source": [
    "## Floating-point numbers"
   ]
  },
  {
   "cell_type": "code",
   "execution_count": 16,
   "metadata": {},
   "outputs": [
    {
     "name": "stdout",
     "output_type": "stream",
     "text": [
      "x= 10.0\n",
      "data type of x : <class 'float'>\n"
     ]
    }
   ],
   "source": [
    "x = 10.0\n",
    "\n",
    "print(\"x= {}\".format(x))\n",
    "print(\"data type of x : {}\".format(type(x)))"
   ]
  },
  {
   "cell_type": "markdown",
   "metadata": {},
   "source": [
    "## Booleans"
   ]
  },
  {
   "cell_type": "code",
   "execution_count": 17,
   "metadata": {},
   "outputs": [
    {
     "name": "stdout",
     "output_type": "stream",
     "text": [
      "x= True\n",
      "data type of x : <class 'bool'>\n",
      "y= False\n",
      "data type of y : <class 'bool'>\n"
     ]
    }
   ],
   "source": [
    "x = True\n",
    "y = False\n",
    "\n",
    "print(\"x= {}\".format(x))\n",
    "print(\"data type of x : {}\".format(type(x)))\n",
    "\n",
    "print(\"y= {}\".format(y))\n",
    "print(\"data type of y : {}\".format(type(y)))"
   ]
  },
  {
   "cell_type": "markdown",
   "metadata": {},
   "source": [
    "## Strings"
   ]
  },
  {
   "cell_type": "code",
   "execution_count": 18,
   "metadata": {},
   "outputs": [
    {
     "name": "stdout",
     "output_type": "stream",
     "text": [
      "x= Hello World\n",
      "data type of x : <class 'str'>\n"
     ]
    }
   ],
   "source": [
    "x = \"Hello World\"\n",
    "\n",
    "print(\"x= {}\".format(x))\n",
    "print(\"data type of x : {}\".format(type(x)))"
   ]
  },
  {
   "cell_type": "markdown",
   "metadata": {},
   "source": [
    "## Complex Numbers"
   ]
  },
  {
   "cell_type": "code",
   "execution_count": 31,
   "metadata": {},
   "outputs": [
    {
     "name": "stdout",
     "output_type": "stream",
     "text": [
      "x= (1+2j)\n",
      "data type of x : <class 'complex'>\n",
      "Real part of x= 1.0\n",
      "Imaginary part of x= 2.0\n"
     ]
    }
   ],
   "source": [
    "x = 1 + 2j\n",
    "\n",
    "print(\"x= {}\".format(x))\n",
    "print(\"data type of x : {}\".format(type(x)))\n",
    "\n",
    "\n",
    "print(\"Real part of x= {}\".format(x.real))\n",
    "print(\"Imaginary part of x= {}\".format(x.imag))\n"
   ]
  },
  {
   "cell_type": "markdown",
   "metadata": {},
   "source": [
    "## Python lists"
   ]
  },
  {
   "cell_type": "code",
   "execution_count": 60,
   "metadata": {},
   "outputs": [
    {
     "name": "stdout",
     "output_type": "stream",
     "text": [
      "x = [1, 2, 3, 4]\n",
      "type of x: <class 'list'>\n"
     ]
    }
   ],
   "source": [
    "x = [1,2,3,4]\n",
    "print(\"x = {}\".format(x))\n",
    "print(\"type of x: {}\".format(type(x)))"
   ]
  },
  {
   "cell_type": "markdown",
   "metadata": {},
   "source": [
    "## Dictionaries\n"
   ]
  },
  {
   "cell_type": "code",
   "execution_count": 56,
   "metadata": {},
   "outputs": [
    {
     "name": "stdout",
     "output_type": "stream",
     "text": [
      "a = apple and type of 'a' is <class 'str'>\n",
      "x = 1 and type of 'x' is <class 'int'>\n",
      "y = 2.0 and type of 'y' is <class 'float'>\n",
      "b = True and type of 'b' is <class 'bool'>\n",
      "6 = 10 and type of '6' is <class 'int'>\n"
     ]
    }
   ],
   "source": [
    "myDictionary = {\n",
    "    \"a\" : \"apple\",\n",
    "    \"x\" : 1,\n",
    "    \"y\" : 2.0,\n",
    "    \"b\" : True,\n",
    "     6: 10,\n",
    "} \n",
    "\n",
    "print(\"a = {} and type of 'a' is {}\".format(myDictionary[\"a\"], type(myDictionary[\"a\"])))\n",
    "print(\"x = {} and type of 'x' is {}\".format(myDictionary[\"x\"], type(myDictionary[\"x\"])))\n",
    "print(\"y = {} and type of 'y' is {}\".format(myDictionary[\"y\"], type(myDictionary[\"y\"])))\n",
    "print(\"b = {} and type of 'b' is {}\".format(myDictionary[\"b\"], type(myDictionary[\"b\"])))\n",
    "print(\"6 = {} and type of '6' is {}\".format(myDictionary[6], type(myDictionary[6])))\n"
   ]
  },
  {
   "cell_type": "markdown",
   "metadata": {},
   "source": [
    "## Tuple\n",
    "\n",
    "Tuples are immutable sequence, used to store collections of heterogeneous data. In the foloowing example we are storing different types of data into a single tuple S. You may think that tuples are quite similar to dictionaries but the main difference between them is that the data assigned to tuples are immutable i.e. cannot be changed. "
   ]
  },
  {
   "cell_type": "code",
   "execution_count": 80,
   "metadata": {},
   "outputs": [
    {
     "name": "stdout",
     "output_type": "stream",
     "text": [
      "type of S: <class 'tuple'>\n",
      "S[0] is : 1\n",
      "S[1] is : [1, 2, 3]\n",
      "S[2] is : True\n",
      "S[3] is : Hello\n"
     ]
    }
   ],
   "source": [
    "S=(1,[1,2,3], True, \"Hello\")\n",
    "\n",
    "print(\"type of S: {}\".format(type(S)))\n",
    "\n",
    "for ii in range(len(S)):\n",
    "    print(\"S[{}] is : {}\".format(ii,S[ii]))\n"
   ]
  },
  {
   "cell_type": "markdown",
   "metadata": {},
   "source": [
    "### let's now try to change some of the data assigned to Tuble, we should get an error."
   ]
  },
  {
   "cell_type": "code",
   "execution_count": 81,
   "metadata": {},
   "outputs": [
    {
     "ename": "TypeError",
     "evalue": "'tuple' object does not support item assignment",
     "output_type": "error",
     "traceback": [
      "\u001b[0;31m---------------------------------------------------------------------------\u001b[0m",
      "\u001b[0;31mTypeError\u001b[0m                                 Traceback (most recent call last)",
      "\u001b[0;32m<ipython-input-81-4343139adbec>\u001b[0m in \u001b[0;36m<module>\u001b[0;34m\u001b[0m\n\u001b[0;32m----> 1\u001b[0;31m \u001b[0mS\u001b[0m\u001b[0;34m[\u001b[0m\u001b[0;36m0\u001b[0m\u001b[0;34m]\u001b[0m\u001b[0;34m=\u001b[0m\u001b[0;36m2\u001b[0m\u001b[0;34m\u001b[0m\u001b[0;34m\u001b[0m\u001b[0m\n\u001b[0m",
      "\u001b[0;31mTypeError\u001b[0m: 'tuple' object does not support item assignment"
     ]
    }
   ],
   "source": [
    "S[0]=2"
   ]
  }
 ],
 "metadata": {
  "kernelspec": {
   "display_name": "Python 3",
   "language": "python",
   "name": "python3"
  },
  "language_info": {
   "codemirror_mode": {
    "name": "ipython",
    "version": 3
   },
   "file_extension": ".py",
   "mimetype": "text/x-python",
   "name": "python",
   "nbconvert_exporter": "python",
   "pygments_lexer": "ipython3",
   "version": "3.7.7"
  }
 },
 "nbformat": 4,
 "nbformat_minor": 4
}
