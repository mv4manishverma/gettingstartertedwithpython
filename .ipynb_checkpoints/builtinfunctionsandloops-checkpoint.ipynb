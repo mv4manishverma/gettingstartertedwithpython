{
 "cells": [
  {
   "cell_type": "markdown",
   "metadata": {},
   "source": [
    "# Some useful built in Python functions and loops"
   ]
  },
  {
   "cell_type": "markdown",
   "metadata": {},
   "source": [
    "## print"
   ]
  },
  {
   "cell_type": "code",
   "execution_count": 1,
   "metadata": {},
   "outputs": [
    {
     "name": "stdout",
     "output_type": "stream",
     "text": [
      "Hello world\n"
     ]
    }
   ],
   "source": [
    "print(\"Hello world\")"
   ]
  },
  {
   "cell_type": "markdown",
   "metadata": {},
   "source": [
    "## abs\n",
    "\n",
    "$abs(x)= \\left| x \\right| $"
   ]
  },
  {
   "cell_type": "code",
   "execution_count": 3,
   "metadata": {},
   "outputs": [
    {
     "name": "stdout",
     "output_type": "stream",
     "text": [
      "abs(x) = 1\n",
      "abs(y) = 1\n",
      "abs(z) = 2.23606797749979\n"
     ]
    }
   ],
   "source": [
    "x = 1\n",
    "y = -1\n",
    "z = 1+2j\n",
    "\n",
    "\n",
    "print(\"abs(x) = {}\".format(abs(x)))\n",
    "print(\"abs(y) = {}\".format(abs(y)))\n",
    "print(\"abs(z) = {}\".format(abs(z)))"
   ]
  },
  {
   "cell_type": "markdown",
   "metadata": {},
   "source": [
    "## pow\n",
    "\n",
    "$ pow(x,y)= x^y$ "
   ]
  },
  {
   "cell_type": "code",
   "execution_count": 13,
   "metadata": {},
   "outputs": [
    {
     "name": "stdout",
     "output_type": "stream",
     "text": [
      "pow(x,y) is: 16\n"
     ]
    }
   ],
   "source": [
    "x = 2\n",
    "y = 4\n",
    "z = pow(x,y)\n",
    "print(r\"pow(x,y) is: {}\".format(z))"
   ]
  },
  {
   "cell_type": "markdown",
   "metadata": {},
   "source": [
    "# complex\n",
    "To convert any data type to complex data type "
   ]
  },
  {
   "cell_type": "code",
   "execution_count": 5,
   "metadata": {},
   "outputs": [
    {
     "data": {
      "text/plain": [
       "(1+0j)"
      ]
     },
     "execution_count": 5,
     "metadata": {},
     "output_type": "execute_result"
    }
   ],
   "source": [
    "complex(1)"
   ]
  },
  {
   "cell_type": "markdown",
   "metadata": {},
   "source": [
    "# round\n",
    "To round a number to nearest integer or to specified decimal digits\n"
   ]
  },
  {
   "cell_type": "code",
   "execution_count": 25,
   "metadata": {},
   "outputs": [
    {
     "name": "stdout",
     "output_type": "stream",
     "text": [
      "round(x) = 3\n",
      "round(x,5) = 3.14159\n"
     ]
    }
   ],
   "source": [
    "x = 3.14159265359\n",
    "\n",
    "print(\"round(x) = {}\".format(round(x)))\n",
    "print(\"round(x,5) = {}\".format(round(x,5)))"
   ]
  },
  {
   "cell_type": "markdown",
   "metadata": {},
   "source": [
    "# type\n",
    "\n",
    "it tells the type of data it is operated upon."
   ]
  },
  {
   "cell_type": "code",
   "execution_count": 30,
   "metadata": {},
   "outputs": [
    {
     "name": "stdout",
     "output_type": "stream",
     "text": [
      "type(1): <class 'int'>\n",
      "type(1.0): <class 'float'>\n",
      "type('Hellow World'): <class 'str'>\n",
      "type(True): <class 'bool'>\n"
     ]
    }
   ],
   "source": [
    "print(\"type(1): {}\".format(type(1)))\n",
    "print(\"type(1.0): {}\".format(type(1.0)))\n",
    "print(\"type('Hellow World'): {}\".format(type(\"Hello World\")))\n",
    "print(\"type(True): {}\".format(type(True)))"
   ]
  },
  {
   "cell_type": "code",
   "execution_count": null,
   "metadata": {},
   "outputs": [],
   "source": []
  }
 ],
 "metadata": {
  "kernelspec": {
   "display_name": "Python 3",
   "language": "python",
   "name": "python3"
  },
  "language_info": {
   "codemirror_mode": {
    "name": "ipython",
    "version": 3
   },
   "file_extension": ".py",
   "mimetype": "text/x-python",
   "name": "python",
   "nbconvert_exporter": "python",
   "pygments_lexer": "ipython3",
   "version": "3.7.7"
  }
 },
 "nbformat": 4,
 "nbformat_minor": 4
}
