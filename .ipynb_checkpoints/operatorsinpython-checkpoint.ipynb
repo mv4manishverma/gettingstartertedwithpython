{
 "cells": [
  {
   "cell_type": "markdown",
   "metadata": {},
   "source": [
    "# Arithmatic operators in python\n",
    "\n",
    "add, subtract, multiply, divide, divide and floor, remainder, exponential "
   ]
  },
  {
   "cell_type": "code",
   "execution_count": 11,
   "metadata": {},
   "outputs": [
    {
     "name": "stdout",
     "output_type": "stream",
     "text": [
      "1+2 =  3\n",
      "1-2 =  -1\n",
      "4*5 =  20\n",
      "1/2 =  0.5\n",
      "11//5 =  2\n",
      "11%5 =  1\n",
      "2**4 =  16\n"
     ]
    }
   ],
   "source": [
    "######### add\n",
    "print(\"1+2 = \", 1+2)\n",
    "\n",
    "######### subtract\n",
    "print(\"1-2 = \", 1-2)\n",
    "\n",
    "######### multiply\n",
    "print(\"4*5 = \", 4*5)\n",
    "\n",
    "######### divide\n",
    "print(\"1/2 = \", 1/2)\n",
    "\n",
    "######### divide and floor\n",
    "print(\"11//5 = \", 11//5)\n",
    "\n",
    "######### remainder\n",
    "print(\"11%5 = \", 11%5)\n",
    "\n",
    "######### exponential\n",
    "print(\"2**4 = \", 2**4)"
   ]
  },
  {
   "cell_type": "markdown",
   "metadata": {},
   "source": [
    "# Logical operators in python\n",
    "\n",
    "or, and, not "
   ]
  },
  {
   "cell_type": "code",
   "execution_count": 24,
   "metadata": {},
   "outputs": [
    {
     "name": "stdout",
     "output_type": "stream",
     "text": [
      "True or False =  True\n",
      "True and False =  False\n",
      "not(True) =  False\n"
     ]
    }
   ],
   "source": [
    "########### OR\n",
    "print(\"True or False = \", True or False)\n",
    "\n",
    "########### AND\n",
    "print(\"True and False = \", True and False)\n",
    "\n",
    "########### NOT\n",
    "print(\"not(True) = \", not(True))\n"
   ]
  },
  {
   "cell_type": "markdown",
   "metadata": {},
   "source": [
    "# Comparison operators in python"
   ]
  },
  {
   "cell_type": "code",
   "execution_count": 32,
   "metadata": {},
   "outputs": [
    {
     "name": "stdout",
     "output_type": "stream",
     "text": [
      "x == 10:  True\n",
      "x != 10:  False\n",
      "x > 0:  True\n",
      "x >= 10:  True\n",
      "x < 0:  False\n",
      "x <= 10:  True\n"
     ]
    }
   ],
   "source": [
    "########### Equality operator\n",
    "x=10\n",
    "print(\"x == 10: \", x == 10)\n",
    "\n",
    "\n",
    "########### not Equal operator\n",
    "x=10\n",
    "print(\"x != 10: \", x !=10)\n",
    "\n",
    "########### greater than operator\n",
    "x=10\n",
    "print(\"x > 0: \", x > 0)\n",
    "\n",
    "########### greater than or equal to operator\n",
    "x=10\n",
    "print(\"x >= 10: \", x >= 10)\n",
    "\n",
    "########### less than operator\n",
    "x=10\n",
    "print(\"x < 0: \", x < 0)\n",
    "\n",
    "########### less than or equal to operator\n",
    "x=10\n",
    "print(\"x <= 10: \", x <= 10)"
   ]
  },
  {
   "cell_type": "markdown",
   "metadata": {},
   "source": [
    "# Identity operators in Python\n",
    "\n",
    "is, is not"
   ]
  },
  {
   "cell_type": "code",
   "execution_count": 55,
   "metadata": {},
   "outputs": [
    {
     "name": "stdout",
     "output_type": "stream",
     "text": [
      "when two entities are equal: \n",
      "x:  [0, 1, 2, 3, 4, 5]\n",
      "y:  [0, 1, 2, 3, 4, 5]\n",
      "y is x:  True\n",
      "when two entities are not equal: \n",
      "x:  [0, 1, 2, 3, 4, 5]\n",
      "y:  [0, 1, 2, 3, 4, 5]\n",
      "y is x:  False\n",
      "\n",
      "\n",
      "Here you might wonder that x and y arrays are both having the same elements inside but still the they are equal in one case and not equal in other case.\n",
      "This is due to the fact that when you use '=' operator, both arrays are same and they points to the same memory location\n",
      "But when you use '.copy()' operator, both arrays are copy of each other but they points to different memory locations\n"
     ]
    }
   ],
   "source": [
    "########### when two entities are equal\n",
    "print(\"when two entities are equal: \")\n",
    "x = [0,1,2,3,4,5]\n",
    "y=x\n",
    "print(\"x: \", x)\n",
    "print(\"y: \", y)\n",
    "print(\"y is x: \", y is x)\n",
    "\n",
    "\n",
    "########### when two entities are not equal\n",
    "print(\"when two entities are not equal: \")\n",
    "x = [0,1,2,3,4,5]\n",
    "y=x.copy()\n",
    "print(\"x: \", x)\n",
    "print(\"y: \", y)\n",
    "print(\"y is x: \", y is x)\n",
    "\n",
    "\n",
    "print(\"\\n\")\n",
    "print(\"Here you might wonder that x and y arrays are both having the same elements inside but still the they are equal in one case and not equal in other case.\")\n",
    "print(\"This is due to the fact that when you use '=' operator, both arrays are same and they points to the same memory location\")\n",
    "print(\"But when you use '.copy()' operator, both arrays are copy of each other but they points to different memory locations\")"
   ]
  }
 ],
 "metadata": {
  "kernelspec": {
   "display_name": "Python 3",
   "language": "python",
   "name": "python3"
  },
  "language_info": {
   "codemirror_mode": {
    "name": "ipython",
    "version": 3
   },
   "file_extension": ".py",
   "mimetype": "text/x-python",
   "name": "python",
   "nbconvert_exporter": "python",
   "pygments_lexer": "ipython3",
   "version": "3.7.7"
  }
 },
 "nbformat": 4,
 "nbformat_minor": 4
}
