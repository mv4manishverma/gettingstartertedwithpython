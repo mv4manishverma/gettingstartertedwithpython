{
 "cells": [
  {
   "cell_type": "markdown",
   "metadata": {},
   "source": [
    "# Some useful built in Python functions and loops"
   ]
  },
  {
   "cell_type": "markdown",
   "metadata": {},
   "source": [
    "## 1. print"
   ]
  },
  {
   "cell_type": "code",
   "execution_count": 1,
   "metadata": {},
   "outputs": [
    {
     "name": "stdout",
     "output_type": "stream",
     "text": [
      "Hello world\n"
     ]
    }
   ],
   "source": [
    "print(\"Hello world\")"
   ]
  },
  {
   "cell_type": "markdown",
   "metadata": {},
   "source": [
    "## 2. abs\n",
    "\n",
    "$abs(x)= \\left| x \\right| $"
   ]
  },
  {
   "cell_type": "code",
   "execution_count": 3,
   "metadata": {},
   "outputs": [
    {
     "name": "stdout",
     "output_type": "stream",
     "text": [
      "abs(x) = 1\n",
      "abs(y) = 1\n",
      "abs(z) = 2.23606797749979\n"
     ]
    }
   ],
   "source": [
    "x = 1\n",
    "y = -1\n",
    "z = 1+2j\n",
    "\n",
    "\n",
    "print(\"abs(x) = {}\".format(abs(x)))\n",
    "print(\"abs(y) = {}\".format(abs(y)))\n",
    "print(\"abs(z) = {}\".format(abs(z)))"
   ]
  },
  {
   "cell_type": "markdown",
   "metadata": {},
   "source": [
    "## 3. pow\n",
    "\n",
    "$ pow(x,y)= x^y$ "
   ]
  },
  {
   "cell_type": "code",
   "execution_count": 13,
   "metadata": {},
   "outputs": [
    {
     "name": "stdout",
     "output_type": "stream",
     "text": [
      "pow(x,y) is: 16\n"
     ]
    }
   ],
   "source": [
    "x = 2\n",
    "y = 4\n",
    "z = pow(x,y)\n",
    "print(r\"pow(x,y) is: {}\".format(z))"
   ]
  },
  {
   "cell_type": "markdown",
   "metadata": {},
   "source": [
    "## 4. complex\n",
    "To convert any data type to complex data type "
   ]
  },
  {
   "cell_type": "code",
   "execution_count": 5,
   "metadata": {},
   "outputs": [
    {
     "data": {
      "text/plain": [
       "(1+0j)"
      ]
     },
     "execution_count": 5,
     "metadata": {},
     "output_type": "execute_result"
    }
   ],
   "source": [
    "complex(1)"
   ]
  },
  {
   "cell_type": "markdown",
   "metadata": {},
   "source": [
    "## 5. round\n",
    "To round a number to nearest integer or to specified decimal digits\n"
   ]
  },
  {
   "cell_type": "code",
   "execution_count": 25,
   "metadata": {},
   "outputs": [
    {
     "name": "stdout",
     "output_type": "stream",
     "text": [
      "round(x) = 3\n",
      "round(x,5) = 3.14159\n"
     ]
    }
   ],
   "source": [
    "x = 3.14159265359\n",
    "\n",
    "print(\"round(x) = {}\".format(round(x)))\n",
    "print(\"round(x,5) = {}\".format(round(x,5)))"
   ]
  },
  {
   "cell_type": "markdown",
   "metadata": {},
   "source": [
    "## 6. type\n",
    "\n",
    "it tells the type of data it is operated upon."
   ]
  },
  {
   "cell_type": "code",
   "execution_count": 30,
   "metadata": {},
   "outputs": [
    {
     "name": "stdout",
     "output_type": "stream",
     "text": [
      "type(1): <class 'int'>\n",
      "type(1.0): <class 'float'>\n",
      "type('Hellow World'): <class 'str'>\n",
      "type(True): <class 'bool'>\n"
     ]
    }
   ],
   "source": [
    "print(\"type(1): {}\".format(type(1)))\n",
    "print(\"type(1.0): {}\".format(type(1.0)))\n",
    "print(\"type('Hellow World'): {}\".format(type(\"Hello World\")))\n",
    "print(\"type(True): {}\".format(type(True)))"
   ]
  },
  {
   "cell_type": "markdown",
   "metadata": {},
   "source": [
    "## 7. len\n",
    "\n",
    "it tell the length of any list or array"
   ]
  },
  {
   "cell_type": "code",
   "execution_count": 33,
   "metadata": {},
   "outputs": [
    {
     "name": "stdout",
     "output_type": "stream",
     "text": [
      "len(x): 4\n"
     ]
    }
   ],
   "source": [
    "x = [1,2,3,4]\n",
    "\n",
    "print(\"len(x): {}\".format(len(x)))"
   ]
  },
  {
   "cell_type": "markdown",
   "metadata": {},
   "source": [
    "# Arrays  "
   ]
  },
  {
   "cell_type": "markdown",
   "metadata": {},
   "source": [
    "## 1. Python Built in arrays\n",
    "\n",
    "Actually, I don't prefer to use python's built in arrays where the required dimension of arrays are more than one. This is due to two reasons, one lack of sufficient methods and second speed. But no worries we have NUMPY arrays which I prefer instead and describe later in my tutorials. Infact, with very large multidimension NUMPY arrays, the programs performs much faster and outperform the builtin arrays by multiple times or even mutiple orders of magnitude. In my opinion NUMPY arrays are best. But any way we just discuss the built in arrays very briefly.\n",
    "\n"
   ]
  },
  {
   "cell_type": "code",
   "execution_count": 83,
   "metadata": {},
   "outputs": [
    {
     "name": "stdout",
     "output_type": "stream",
     "text": [
      "x: []\n",
      "size of x: 0\n",
      "\n",
      "x: [1, 2]\n",
      "size of x: 2\n",
      "\n",
      "x: [[1, 2], [3, 4]]\n",
      "\n",
      "size of x[0]: 2\n",
      "size of x[1]: 2\n",
      "\n",
      "x: [[[1, 2], [3, 4]], [[5, 6], [7, 8]]]\n",
      "\n",
      "size of x[0]: 2\n",
      "size of x[0][0]: 2\n"
     ]
    }
   ],
   "source": [
    "x = []   # Blank array\n",
    "print(\"x: {}\".format(x))\n",
    "print(\"size of x: {}\\n\".format(len(x)))\n",
    "\n",
    "x = [1,2] # 1D array\n",
    "print(\"x: {}\".format(x))\n",
    "print(\"size of x: {}\\n\".format(len(x)))\n",
    "\n",
    "x = [[1,2], [3,4]] # 2D array\n",
    "print(\"x: {}\\n\".format(x))\n",
    "print(\"size of x[0]: {}\".format(len(x[0])))\n",
    "print(\"size of x[1]: {}\\n\".format(len(x[1])))\n",
    "\n",
    "\n",
    "x = [[[1,2], [3,4]], [[5,6], [7,8]]]\n",
    "print(\"x: {}\\n\".format(x))\n",
    "print(\"size of x[0]: {}\".format(len(x[0])))\n",
    "print(\"size of x[0][0]: {}\".format(len(x[1])))"
   ]
  },
  {
   "cell_type": "markdown",
   "metadata": {},
   "source": [
    "### Builtin array  methods\n",
    "\n",
    "'count',  'append', 'clear', 'copy', 'count', 'extend', 'index', 'insert', 'pop', 'remove', 'reverse', 'sort'"
   ]
  },
  {
   "cell_type": "code",
   "execution_count": 136,
   "metadata": {},
   "outputs": [
    {
     "name": "stdout",
     "output_type": "stream",
     "text": [
      "x:  [1, 1, 1, 2, 2, 3, 4]\n",
      "x.index(3):  5\n",
      "x.count(1):  3\n",
      "x.append(7):  [1, 1, 1, 2, 2, 3, 4, 7]\n",
      "y = x.copy() :  [1, 1, 1, 2, 2, 3, 4, 7]\n",
      "y.pop(0):  [1, 1, 2, 2, 3, 4, 7]\n",
      "y.insert(0,11):  [11, 1, 1, 2, 2, 3, 4, 7]\n",
      "y.remove(1):  [11, 1, 2, 2, 3, 4, 7]\n",
      "y.extend(x):  [11, 1, 2, 2, 3, 4, 7, 1, 1, 1, 2, 2, 3, 4, 7]\n",
      "y.reverse():  [7, 4, 3, 2, 2, 1, 1, 1, 7, 4, 3, 2, 2, 1, 11]\n",
      "y.sort(reverse=False):  [1, 1, 1, 1, 2, 2, 2, 2, 3, 3, 4, 4, 7, 7, 11]\n",
      "x.clear():  []\n"
     ]
    }
   ],
   "source": [
    "x = [1, 1, 1, 2, 2, 3, 4]\n",
    "\n",
    "print(\"x: \", x)\n",
    "\n",
    "print(\"x.index(3): \", x.index(3))        # Tells the position index elemnet 3 in the array\n",
    "\n",
    "print(\"x.count(1): \", x.count(1))        # print occurance of 1\n",
    "\n",
    "x.append(7)                              # append '7' at the end of the list\n",
    "print(\"x.append(7): \", x)\n",
    "\n",
    "y = x.copy()                             # Copy entire array x to a variable y\n",
    "print(\"y = x.copy() : \", y)\n",
    "\n",
    "y.pop(0)                                 # Removes an element at position index 0 \n",
    "print(\"y.pop(0): \", y)\n",
    "\n",
    "y.insert(0,11)                           # Insert an element 11 at position index 0 \n",
    "print(\"y.insert(0,11): \", y)\n",
    "\n",
    "y.remove(1)                              # Removes an element at position index 1 \n",
    "print(\"y.remove(1): \", y)\n",
    "\n",
    "y.extend(x)                              # extend operator concatenates two python arrays together\n",
    "print(\"y.extend(x): \", y)\n",
    "\n",
    "y.reverse()                              # reverse the order of elements\n",
    "print(\"y.reverse(): \", y)\n",
    "\n",
    "y.sort(reverse=False)                    # Sorts an array into acending or decending order depending upon reverse= False or True respectively \n",
    "print(\"y.sort(reverse=False): \", y)\n",
    "\n",
    "x.clear()\n",
    "print(\"x.clear(): \", x)                  # clear all elements of the array and make it empty\n"
   ]
  }
 ],
 "metadata": {
  "kernelspec": {
   "display_name": "Python 3",
   "language": "python",
   "name": "python3"
  },
  "language_info": {
   "codemirror_mode": {
    "name": "ipython",
    "version": 3
   },
   "file_extension": ".py",
   "mimetype": "text/x-python",
   "name": "python",
   "nbconvert_exporter": "python",
   "pygments_lexer": "ipython3",
   "version": "3.7.7"
  }
 },
 "nbformat": 4,
 "nbformat_minor": 4
}
